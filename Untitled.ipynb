{
 "cells": [
  {
   "cell_type": "markdown",
   "metadata": {},
   "source": [
    "# Реализовать разложение по сингулярным значениям (SVD) для ленточных матриц"
   ]
  },
  {
   "cell_type": "markdown",
   "metadata": {},
   "source": [
    "### создание произвольной ленточной матрицы"
   ]
  },
  {
   "cell_type": "markdown",
   "metadata": {},
   "source": [
    "На вход подаётся массив $n \\times m$  - в таком виде хранятся ленточные матрицы. $n$ - размер матрицы, $m$ - ширина ленты, нечётное число."
   ]
  },
  {
   "cell_type": "markdown",
   "metadata": {},
   "source": [
    "<img src='Matrix_storage.png'></img>"
   ]
  },
  {
   "cell_type": "code",
   "execution_count": 1,
   "metadata": {},
   "outputs": [],
   "source": [
    "import numpy as np"
   ]
  },
  {
   "cell_type": "code",
   "execution_count": 2,
   "metadata": {},
   "outputs": [],
   "source": [
    "def random_tape(n, m, seed=1):\n",
    "    '''\n",
    "    создаёт случайную ленту, на основе которой будет создана ленточная матрица\n",
    "    n - длина ленты\n",
    "    m - ширина ленты\n",
    "    '''\n",
    "    tape = np.zeros((n, m))\n",
    "    l = (m - 1) // 2 #полуширина ленты\n",
    "    for j in range(l, -1, -1):\n",
    "        tape[j:, l - j] = np.random.rand(n - j)\n",
    "    for j in range(1, l + 1):\n",
    "        tape[:n - j, l + j] = np.random.rand(n - j)\n",
    "    return tape"
   ]
  },
  {
   "cell_type": "code",
   "execution_count": 3,
   "metadata": {},
   "outputs": [],
   "source": [
    "def tape_matrix(tape):\n",
    "    '''\n",
    "    создаёт ленточную матрицу из ленты tape\n",
    "    крайние элементы столбцов ленты должны содержать нули согласно рисунку выше\n",
    "    '''\n",
    "    n, m = tape.shape\n",
    "    l = (m - 1) // 2\n",
    "    matrix = np.zeros((n, n))\n",
    "    \n",
    "    i = 0\n",
    "    for j in range(l, -1, -1):\n",
    "        matrix[i, :i + l + 1] = tape[i, j:]\n",
    "        i += 1\n",
    "    start = i\n",
    "    i = n - 1\n",
    "    for j in range(l, 0, -1):\n",
    "        matrix[i, i - l:] = tape[i, : -j]\n",
    "        i -= 1\n",
    "    stop = i\n",
    "    for i in range(start, stop + 1):\n",
    "        matrix[i, i - l : i + l + 1] = tape[i]\n",
    "    return matrix"
   ]
  },
  {
   "cell_type": "code",
   "execution_count": 4,
   "metadata": {},
   "outputs": [],
   "source": [
    "def tape(tape_matrix):\n",
    "    '''\n",
    "    вытаскивает ленту из матрицы\n",
    "    '''\n",
    "    m = 0\n",
    "    for string in tape_matrix:\n",
    "        non0 = len(string[string != 0])\n",
    "        if non0 > m:\n",
    "            m = non0\n",
    "    n = tape_matrix.shape[0]\n",
    "    tape = np.zeros((n, m))\n",
    "    l = (m - 1) // 2\n",
    "    i = 0\n",
    "    for j in range(l, -1, -1):\n",
    "        tape[i, j:] = tape_matrix[i, :i + l + 1]\n",
    "        i += 1\n",
    "    start = i\n",
    "    i = n - 1\n",
    "    for j in range(l, 0, -1):\n",
    "        tape[i, : -j] = tape_matrix[i, i - l:]\n",
    "        i -= 1\n",
    "    stop = i\n",
    "    for i in range(start, stop + 1):\n",
    "        tape[i] = tape_matrix[i, i - l : i + l + 1]\n",
    "    return tape"
   ]
  },
  {
   "cell_type": "code",
   "execution_count": 5,
   "metadata": {},
   "outputs": [],
   "source": [
    "A = tape_matrix(random_tape(5, 3))"
   ]
  },
  {
   "cell_type": "markdown",
   "metadata": {},
   "source": [
    "<img src='one_way.png'> </img>"
   ]
  },
  {
   "cell_type": "code",
   "execution_count": 6,
   "metadata": {},
   "outputs": [],
   "source": [
    "A2 = A.T @ A"
   ]
  },
  {
   "cell_type": "code",
   "execution_count": 7,
   "metadata": {},
   "outputs": [
    {
     "data": {
      "text/plain": [
       "True"
      ]
     },
     "execution_count": 7,
     "metadata": {},
     "output_type": "execute_result"
    }
   ],
   "source": [
    "w, v = np.linalg.eig(A2)\n",
    "n = A2.shape[0]\n",
    "L = np.zeros((n, n))\n",
    "for i in range(n):\n",
    "    L[i, i] = w[i]\n",
    "np.allclose(A2, v @ L @ np.linalg.inv(v))"
   ]
  },
  {
   "cell_type": "code",
   "execution_count": 8,
   "metadata": {},
   "outputs": [],
   "source": [
    "Sigma = np.sqrt(L)"
   ]
  },
  {
   "cell_type": "code",
   "execution_count": 9,
   "metadata": {},
   "outputs": [],
   "source": [
    "u = A @ v @ np.linalg.inv(Sigma)"
   ]
  },
  {
   "cell_type": "code",
   "execution_count": 10,
   "metadata": {},
   "outputs": [
    {
     "data": {
      "text/plain": [
       "True"
      ]
     },
     "execution_count": 10,
     "metadata": {},
     "output_type": "execute_result"
    }
   ],
   "source": [
    "np.allclose(A, u @ Sigma @ np.linalg.inv(v))"
   ]
  },
  {
   "cell_type": "code",
   "execution_count": 11,
   "metadata": {},
   "outputs": [],
   "source": [
    "u_qr, Sigma_qr = np.linalg.qr(A @ v)"
   ]
  },
  {
   "cell_type": "code",
   "execution_count": 12,
   "metadata": {},
   "outputs": [
    {
     "data": {
      "text/plain": [
       "True"
      ]
     },
     "execution_count": 12,
     "metadata": {},
     "output_type": "execute_result"
    }
   ],
   "source": [
    "np.allclose(A, u_qr @ Sigma_qr @ np.linalg.inv(v))"
   ]
  },
  {
   "cell_type": "code",
   "execution_count": 13,
   "metadata": {},
   "outputs": [
    {
     "data": {
      "text/plain": [
       "True"
      ]
     },
     "execution_count": 13,
     "metadata": {},
     "output_type": "execute_result"
    }
   ],
   "source": [
    "np.allclose(A, u_qr @ Sigma_qr @ v.T)"
   ]
  },
  {
   "cell_type": "markdown",
   "metadata": {},
   "source": [
    "### Stable way"
   ]
  },
  {
   "cell_type": "code",
   "execution_count": 14,
   "metadata": {},
   "outputs": [],
   "source": [
    "n = A.shape[0]\n",
    "H = np.zeros((2 * n, 2 * n))\n",
    "H[:n, n:] = A.T\n",
    "H[n:, :n] = A"
   ]
  },
  {
   "cell_type": "code",
   "execution_count": 15,
   "metadata": {},
   "outputs": [
    {
     "data": {
      "text/plain": [
       "True"
      ]
     },
     "execution_count": 15,
     "metadata": {},
     "output_type": "execute_result"
    }
   ],
   "source": [
    "w_H, vu_H = np.linalg.eig(H)\n",
    "Sigma_H = np.zeros((2 * n, 2 * n))\n",
    "for i in range(2 * n):\n",
    "    Sigma_H[i, i] = w_H[i]\n",
    "np.allclose(H, vu_H @ Sigma_H @ np.linalg.inv(vu_H))"
   ]
  },
  {
   "cell_type": "code",
   "execution_count": 16,
   "metadata": {},
   "outputs": [],
   "source": [
    "v_st = vu_H[:n, :n]\n",
    "u_st = vu_H[n:, :n]\n",
    "\n",
    "Sigma_st = Sigma_H[:n, :n]"
   ]
  },
  {
   "cell_type": "code",
   "execution_count": 17,
   "metadata": {},
   "outputs": [
    {
     "data": {
      "text/plain": [
       "False"
      ]
     },
     "execution_count": 17,
     "metadata": {},
     "output_type": "execute_result"
    }
   ],
   "source": [
    "np.allclose(A, u_st @ Sigma_st @ np.linalg.inv(v_st))"
   ]
  },
  {
   "cell_type": "code",
   "execution_count": 18,
   "metadata": {},
   "outputs": [
    {
     "name": "stdout",
     "output_type": "stream",
     "text": [
      "[[-0.02 -0.02 -0.01 -0.01 -0.02 -0.02  0.18  0.68 -0.68 -0.18]\n",
      " [-0.46 -0.46 -0.32 -0.32  0.43  0.43 -0.04  0.   -0.    0.04]\n",
      " [-0.49 -0.49  0.01  0.01 -0.51 -0.51  0.05 -0.04  0.04 -0.05]\n",
      " [-0.22 -0.22  0.62  0.62  0.23  0.23  0.09 -0.01  0.01 -0.09]\n",
      " [-0.04 -0.04  0.1   0.1  -0.03 -0.03 -0.67  0.18 -0.18  0.67]\n",
      " [-0.19  0.19 -0.19  0.19  0.53 -0.53 -0.24  0.3   0.3  -0.24]\n",
      " [-0.33  0.33 -0.12  0.12 -0.29  0.29  0.29  0.46  0.46  0.29]\n",
      " [-0.51  0.51 -0.21  0.21  0.01 -0.01  0.04 -0.44 -0.44  0.04]\n",
      " [-0.28  0.28  0.47 -0.47 -0.17  0.17 -0.41  0.07  0.07 -0.41]\n",
      " [-0.11  0.11  0.43 -0.43  0.33 -0.33  0.43 -0.03 -0.03  0.43]]\n"
     ]
    }
   ],
   "source": [
    "np.set_printoptions(precision=2)\n",
    "print(vu_H)"
   ]
  },
  {
   "cell_type": "code",
   "execution_count": 19,
   "metadata": {},
   "outputs": [
    {
     "name": "stdout",
     "output_type": "stream",
     "text": [
      "[[0.   0.   0.   0.   0.   0.03 0.09 0.   0.   0.  ]\n",
      " [0.   0.   0.   0.   0.   0.69 0.45 0.93 0.   0.  ]\n",
      " [0.   0.   0.   0.   0.   0.   0.7  0.8  0.56 0.  ]\n",
      " [0.   0.   0.   0.   0.   0.   0.   0.06 0.84 0.82]\n",
      " [0.   0.   0.   0.   0.   0.   0.   0.   0.22 0.05]\n",
      " [0.03 0.69 0.   0.   0.   0.   0.   0.   0.   0.  ]\n",
      " [0.09 0.45 0.7  0.   0.   0.   0.   0.   0.   0.  ]\n",
      " [0.   0.93 0.8  0.06 0.   0.   0.   0.   0.   0.  ]\n",
      " [0.   0.   0.56 0.84 0.22 0.   0.   0.   0.   0.  ]\n",
      " [0.   0.   0.   0.82 0.05 0.   0.   0.   0.   0.  ]]\n"
     ]
    }
   ],
   "source": [
    "print(H)"
   ]
  },
  {
   "cell_type": "code",
   "execution_count": null,
   "metadata": {},
   "outputs": [],
   "source": []
  }
 ],
 "metadata": {
  "kernelspec": {
   "display_name": "Python 3",
   "language": "python",
   "name": "python3"
  },
  "language_info": {
   "codemirror_mode": {
    "name": "ipython",
    "version": 3
   },
   "file_extension": ".py",
   "mimetype": "text/x-python",
   "name": "python",
   "nbconvert_exporter": "python",
   "pygments_lexer": "ipython3",
   "version": "3.6.4"
  }
 },
 "nbformat": 4,
 "nbformat_minor": 2
}
