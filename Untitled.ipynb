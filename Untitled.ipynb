{
 "cells": [
  {
   "cell_type": "markdown",
   "metadata": {},
   "source": [
    "# Реализовать разложение по сингулярным значениям (SVD) для ленточных матриц"
   ]
  },
  {
   "cell_type": "markdown",
   "metadata": {},
   "source": [
    "### создание произвольной ленточной матрицы"
   ]
  },
  {
   "cell_type": "markdown",
   "metadata": {},
   "source": [
    "На вход подаётся массив $n \\times m$  - в таком виде хранятся ленточные матрицы. $n$ - размер матрицы, $m$ - ширина ленты, нечётное число."
   ]
  },
  {
   "cell_type": "markdown",
   "metadata": {},
   "source": [
    "<img src='Matrix_storage.png'></img>"
   ]
  },
  {
   "cell_type": "code",
   "execution_count": 1,
   "metadata": {},
   "outputs": [],
   "source": [
    "import numpy as np"
   ]
  },
  {
   "cell_type": "code",
   "execution_count": 2,
   "metadata": {},
   "outputs": [],
   "source": [
    "def random_tape(n, m, seed=1):\n",
    "    '''\n",
    "    создаёт случайную ленту, на основе которой будет создана ленточная матрица\n",
    "    n - длина ленты\n",
    "    m - ширина ленты\n",
    "    '''\n",
    "    tape = np.zeros((n, m))\n",
    "    l = (m - 1) // 2 #полуширина ленты\n",
    "    for j in range(l, -1, -1):\n",
    "        tape[j:, l - j] = np.random.rand(n - j)\n",
    "    for j in range(1, l + 1):\n",
    "        tape[:n - j, l + j] = np.random.rand(n - j)\n",
    "    return tape"
   ]
  },
  {
   "cell_type": "code",
   "execution_count": 74,
   "metadata": {},
   "outputs": [],
   "source": [
    "def tape_matrix(tape):\n",
    "    '''\n",
    "    создаёт ленточную матрицу из ленты tape\n",
    "    крайние элементы столбцов ленты должны содержать нули согласно рисунку выше\n",
    "    '''\n",
    "    n, m = tape.shape\n",
    "    l = (m - 1) // 2\n",
    "    matrix = np.zeros((n, n))\n",
    "    \n",
    "    i = 0\n",
    "    for j in range(l, -1, -1):\n",
    "        matrix[i, :i + l + 1] = tape[i, j:]\n",
    "        i += 1\n",
    "    start = i\n",
    "    i = n - 1\n",
    "    for j in range(l, 0, -1):\n",
    "        matrix[i, i - l:] = tape[i, : -j]\n",
    "        i -= 1\n",
    "    stop = i\n",
    "    for i in range(start, stop + 1):\n",
    "        matrix[i, i - l : i + l + 1] = tape[i]\n",
    "    return matrix"
   ]
  },
  {
   "cell_type": "code",
   "execution_count": 82,
   "metadata": {},
   "outputs": [],
   "source": [
    "def tape(tape_matrix):\n",
    "    '''\n",
    "    вытаскивает ленту из матрицы\n",
    "    '''\n",
    "    m = 0\n",
    "    for string in tape_matrix:\n",
    "        non0 = len(string[string != 0])\n",
    "        if non0 > m:\n",
    "            m = non0\n",
    "    n = tape_matrix.shape[0]\n",
    "    tape = np.zeros((n, m))\n",
    "    l = (m - 1) // 2\n",
    "    i = 0\n",
    "    for j in range(l, -1, -1):\n",
    "        tape[i, j:] = tape_matrix[i, :i + l + 1]\n",
    "        i += 1\n",
    "    start = i\n",
    "    i = n - 1\n",
    "    for j in range(l, 0, -1):\n",
    "        tape[i, : -j] = tape_matrix[i, i - l:]\n",
    "        i -= 1\n",
    "    stop = i\n",
    "    for i in range(start, stop + 1):\n",
    "        tape[i] = tape_matrix[i, i - l : i + l + 1]\n",
    "    return tape"
   ]
  },
  {
   "cell_type": "code",
   "execution_count": null,
   "metadata": {},
   "outputs": [],
   "source": []
  }
 ],
 "metadata": {
  "kernelspec": {
   "display_name": "Python 3",
   "language": "python",
   "name": "python3"
  },
  "language_info": {
   "codemirror_mode": {
    "name": "ipython",
    "version": 3
   },
   "file_extension": ".py",
   "mimetype": "text/x-python",
   "name": "python",
   "nbconvert_exporter": "python",
   "pygments_lexer": "ipython3",
   "version": "3.6.4"
  }
 },
 "nbformat": 4,
 "nbformat_minor": 2
}
