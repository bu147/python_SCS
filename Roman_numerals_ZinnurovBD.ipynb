{
 "cells": [
  {
   "cell_type": "markdown",
   "metadata": {},
   "source": [
    "# Roman numerals"
   ]
  },
  {
   "cell_type": "markdown",
   "metadata": {},
   "source": [
    "## I. Roman numerals to decimals\n",
    "\n",
    "Write a function which receives a Roman numeral written out as a string, and returns an integer representing the decimal form of the input number. "
   ]
  },
  {
   "cell_type": "code",
   "execution_count": 50,
   "metadata": {},
   "outputs": [],
   "source": [
    "mapping = {\"I\" : 1, \n",
    "           \"V\" : 5,\n",
    "           \"X\" : 10,\n",
    "           \"L\" : 50,\n",
    "           \"C\" : 100,\n",
    "           \"D\" : 500,\n",
    "           \"M\" : 1000}"
   ]
  },
  {
   "cell_type": "code",
   "execution_count": 4,
   "metadata": {},
   "outputs": [],
   "source": [
    "def roman_to_decimal(rom):\n",
    "    dec=0\n",
    "    l=len(rom)\n",
    "    for i in range(l-1):\n",
    "        if mapping[rom[i]]<mapping[rom[i+1]]:\n",
    "            dec-=mapping[rom[i]]\n",
    "        else:\n",
    "            dec+=mapping[rom[i]]\n",
    "    dec+=mapping[rom[-1]]\n",
    "    return dec"
   ]
  },
  {
   "cell_type": "markdown",
   "metadata": {},
   "source": [
    "Here are some tests for you to test your code. Your code must pass all of them. You also need to come up with several more tests (your choice)."
   ]
  },
  {
   "cell_type": "code",
   "execution_count": 10,
   "metadata": {},
   "outputs": [
    {
     "name": "stdout",
     "output_type": "stream",
     "text": [
      "True\n",
      "True\n",
      "True\n",
      "True\n",
      "True\n",
      "True\n",
      "True\n",
      "True\n",
      "True\n"
     ]
    }
   ],
   "source": [
    "test_pairs = [(\"IX\", 9), (\"XI\", 11), (\"MCCII\", 1202), (\"MMXVIII\", 2018), (\"XLIX\", 49),\n",
    "              (\"XVIIII\", 19), (\"XIX\", 19), (\"MCDXLIV\", 1444), (\"MCMXCIX\", 1999)]\n",
    "\n",
    "for rom, dec in test_pairs:\n",
    "    converted = roman_to_decimal(rom)\n",
    "    print(converted == dec)"
   ]
  },
  {
   "cell_type": "code",
   "execution_count": 11,
   "metadata": {},
   "outputs": [
    {
     "name": "stdout",
     "output_type": "stream",
     "text": [
      "True\n",
      "True\n",
      "True\n"
     ]
    }
   ],
   "source": [
    "my_test1=[('XLIV',44),('MCMXCVI',1996),('MMXIX',2019)]\n",
    "for rom, dec in my_test1:\n",
    "    converted = roman_to_decimal(rom)\n",
    "    print(converted == dec)"
   ]
  },
  {
   "cell_type": "markdown",
   "metadata": {},
   "source": [
    "Now you can run tests in file `tests_Roman_numerals.txt`. You need to insert a number of false results and listed false results in respective field in Google Form for this lesson."
   ]
  },
  {
   "cell_type": "code",
   "execution_count": 48,
   "metadata": {},
   "outputs": [
    {
     "name": "stdout",
     "output_type": "stream",
     "text": [
      "LXXXIV, CDXXIX, DCCXCVII, MCCXLVIII, MCCLXX, MDCCX, MDCCXCI, number of false results:  7\n"
     ]
    }
   ],
   "source": [
    "p = \"tests_Roman_numerals.txt\"\n",
    "with open(p, \"rb\") as fp:\n",
    "    lines=fp.readlines()\n",
    "\n",
    "test_data = [line.strip().decode(\"ascii\").split(',') for line in lines]\n",
    "test_data = [(line[0], int(line[1])) for line in test_data]\n",
    "\n",
    "false_results=dict()\n",
    "\n",
    "c=0\n",
    "for rom, dec in test_data:\n",
    "    converted = roman_to_decimal(rom)\n",
    "    if converted != dec:\n",
    "        c+=1\n",
    "        false_results[dec]=rom\n",
    "\n",
    "fr_sorted = list(false_results.keys())\n",
    "fr_sorted.sort()\n",
    "for i in fr_sorted:\n",
    "    print(false_results[i], end=', ')        \n",
    "            \n",
    "print('number of false results: ', c)"
   ]
  },
  {
   "cell_type": "markdown",
   "metadata": {},
   "source": [
    "## II. Decimal numbers to roman numerals.\n",
    "\n",
    "The maximum grade for first task (Roman to decimal) is 7 on the 10-point HSE scale. For extra credit, complete the second task: *given a decimal number, convert it to the Roman form*."
   ]
  },
  {
   "cell_type": "code",
   "execution_count": 97,
   "metadata": {},
   "outputs": [
    {
     "data": {
      "text/plain": [
       "{'C': 100,\n",
       " 'CD': 400,\n",
       " 'CM': 900,\n",
       " 'D': 500,\n",
       " 'I': 1,\n",
       " 'IV': 4,\n",
       " 'IX': 9,\n",
       " 'L': 50,\n",
       " 'M': 1000,\n",
       " 'V': 5,\n",
       " 'X': 10,\n",
       " 'XC': 90,\n",
       " 'XL': 40}"
      ]
     },
     "execution_count": 97,
     "metadata": {},
     "output_type": "execute_result"
    }
   ],
   "source": [
    "mapping2=mapping.copy()\n",
    "extra_keys=['IV','IX','XL','XC','CD', 'CM']\n",
    "extra_values=[4, 9, 40, 90, 400, 900]\n",
    "for i in range(len(extra_keys)):\n",
    "    mapping2[extra_keys[i]]=extra_values[i]\n",
    "\n",
    "mapping2"
   ]
  },
  {
   "cell_type": "code",
   "execution_count": 98,
   "metadata": {},
   "outputs": [
    {
     "data": {
      "text/plain": [
       "{1: 'I',\n",
       " 4: 'IV',\n",
       " 5: 'V',\n",
       " 9: 'IX',\n",
       " 10: 'X',\n",
       " 40: 'XL',\n",
       " 50: 'L',\n",
       " 90: 'XC',\n",
       " 100: 'C',\n",
       " 400: 'CD',\n",
       " 500: 'D',\n",
       " 900: 'CM',\n",
       " 1000: 'M'}"
      ]
     },
     "execution_count": 98,
     "metadata": {},
     "output_type": "execute_result"
    }
   ],
   "source": [
    "inv_map2=dict()\n",
    "inv_values=list(mapping2.keys())\n",
    "inv_keys=list(mapping2.values())\n",
    "for i in range(len(inv_keys)):\n",
    "    inv_map2[inv_keys[i]]=inv_values[i]\n",
    "\n",
    "inv_map2"
   ]
  },
  {
   "cell_type": "code",
   "execution_count": 99,
   "metadata": {},
   "outputs": [
    {
     "data": {
      "text/plain": [
       "[1000, 900, 500, 400, 100, 90, 50, 40, 10, 9, 5, 4, 1]"
      ]
     },
     "execution_count": 99,
     "metadata": {},
     "output_type": "execute_result"
    }
   ],
   "source": [
    "keys_sorted=inv_keys.copy()\n",
    "keys_sorted.sort(reverse=True)\n",
    "keys_sorted"
   ]
  },
  {
   "cell_type": "code",
   "execution_count": 100,
   "metadata": {},
   "outputs": [],
   "source": [
    "def decimal_to_roman(dec):\n",
    "    rom=str()\n",
    "    for number in keys_sorted:\n",
    "        rom+=(dec//number)*inv_map2[number]\n",
    "        dec%=number\n",
    "    return rom"
   ]
  },
  {
   "cell_type": "markdown",
   "metadata": {},
   "source": [
    "You need to come up with test cases to show that your conversion works as expected. \n",
    "NB: the conversion is ambiguous in some cases. Any valid conversion is accepted. "
   ]
  },
  {
   "cell_type": "code",
   "execution_count": 104,
   "metadata": {},
   "outputs": [],
   "source": [
    "p = \"tests_decimal_to_roman.txt\"\n",
    "with open(p, \"rb\") as fp:\n",
    "    lines=fp.readlines()\n",
    "\n",
    "test_data = [line.strip().decode(\"ascii\").split(',') for line in lines]\n",
    "test_data = [(line[0], int(line[1])) for line in test_data]\n",
    "\n",
    "false_results=dict()\n",
    "\n",
    "c=0\n",
    "for rom, dec in test_data:\n",
    "    converted = decimal_to_roman(dec)\n",
    "    if converted != rom:\n",
    "        c+=1\n",
    "        false_results[dec]=rom\n",
    "\n",
    "fr_sorted = list(false_results.keys())\n",
    "fr_sorted.sort()"
   ]
  },
  {
   "cell_type": "markdown",
   "metadata": {},
   "source": [
    "Now, put false decimal numbers from previous set of tests in ascending order, convert them to Roman numerals and list them in respected field in Google Form for this lesson."
   ]
  },
  {
   "cell_type": "code",
   "execution_count": 105,
   "metadata": {},
   "outputs": [
    {
     "name": "stdout",
     "output_type": "stream",
     "text": [
      "CMLXXV, MDCCCIII, MDCCCVIII, MDCCCXLIV, MDCCCLXXXVIII, MCMLXXVI, number of false results:  6\n"
     ]
    }
   ],
   "source": [
    "for i in fr_sorted:\n",
    "    print(false_results[i], end=', ')        \n",
    "            \n",
    "print('number of false results: ', c)"
   ]
  },
  {
   "cell_type": "code",
   "execution_count": null,
   "metadata": {},
   "outputs": [],
   "source": []
  }
 ],
 "metadata": {
  "kernelspec": {
   "display_name": "Python 3",
   "language": "python",
   "name": "python3"
  },
  "language_info": {
   "codemirror_mode": {
    "name": "ipython",
    "version": 3
   },
   "file_extension": ".py",
   "mimetype": "text/x-python",
   "name": "python",
   "nbconvert_exporter": "python",
   "pygments_lexer": "ipython3",
   "version": "3.6.4"
  }
 },
 "nbformat": 4,
 "nbformat_minor": 2
}
