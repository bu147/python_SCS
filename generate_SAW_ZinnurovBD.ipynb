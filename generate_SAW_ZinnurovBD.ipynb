{
 "cells": [
  {
   "cell_type": "markdown",
   "metadata": {},
   "source": [
    "# I. Generate all lattice walks, 2D square lattice"
   ]
  },
  {
   "cell_type": "code",
   "execution_count": 1,
   "metadata": {},
   "outputs": [],
   "source": [
    "# This I showed in class:\n",
    "\n",
    "steps = [(1, 0), (-1, 0), (0, 1), (0, -1)]\n",
    "\n",
    "def generate_walks(path, L):\n",
    "    \"\"\"Generate all random walks on the 2D square lattice.\"\"\"\n",
    "    if L == 0:\n",
    "        print(path)\n",
    "    else:\n",
    "        for dx, dy in steps:\n",
    "            x, y = path[-1]\n",
    "            pp = path.copy()\n",
    "            pp.append((x + dx, y + dy))\n",
    "            generate_walks(pp, L - 1)"
   ]
  },
  {
   "cell_type": "code",
   "execution_count": 2,
   "metadata": {},
   "outputs": [
    {
     "name": "stdout",
     "output_type": "stream",
     "text": [
      "[(0, 0), (1, 0), (2, 0)]\n",
      "[(0, 0), (1, 0), (0, 0)]\n",
      "[(0, 0), (1, 0), (1, 1)]\n",
      "[(0, 0), (1, 0), (1, -1)]\n",
      "[(0, 0), (-1, 0), (0, 0)]\n",
      "[(0, 0), (-1, 0), (-2, 0)]\n",
      "[(0, 0), (-1, 0), (-1, 1)]\n",
      "[(0, 0), (-1, 0), (-1, -1)]\n",
      "[(0, 0), (0, 1), (1, 1)]\n",
      "[(0, 0), (0, 1), (-1, 1)]\n",
      "[(0, 0), (0, 1), (0, 2)]\n",
      "[(0, 0), (0, 1), (0, 0)]\n",
      "[(0, 0), (0, -1), (1, -1)]\n",
      "[(0, 0), (0, -1), (-1, -1)]\n",
      "[(0, 0), (0, -1), (0, 0)]\n",
      "[(0, 0), (0, -1), (0, -2)]\n"
     ]
    }
   ],
   "source": [
    "generate_walks([(0, 0)], 2)"
   ]
  },
  {
   "cell_type": "markdown",
   "metadata": {},
   "source": [
    "## Store the walks\n",
    "\n",
    "Printing walks is nice, but not very useful. Better construct a list of all walks, for postprocessing. To this end, add a `cache` parameter, which stores all generated walks."
   ]
  },
  {
   "cell_type": "code",
   "execution_count": 3,
   "metadata": {},
   "outputs": [],
   "source": [
    "steps = [(1, 0), (-1, 0), (0, 1), (0, -1)]\n",
    "\n",
    "def generate_walks_stored(path, L, cache):\n",
    "    if L == 0:\n",
    "        cache.append(path)\n",
    "    else:\n",
    "        for dx, dy in steps:\n",
    "            x, y = path[-1]\n",
    "            xy_new = (x + dx, y + dy)\n",
    "            pp = path.copy()\n",
    "            pp.append(xy_new)\n",
    "            generate_walks_stored(pp, L - 1, cache)"
   ]
  },
  {
   "cell_type": "code",
   "execution_count": 4,
   "metadata": {},
   "outputs": [
    {
     "data": {
      "text/plain": [
       "16"
      ]
     },
     "execution_count": 4,
     "metadata": {},
     "output_type": "execute_result"
    }
   ],
   "source": [
    "cache = []\n",
    "generate_walks_stored([(0, 0)], 2, cache)\n",
    "len(cache)"
   ]
  },
  {
   "cell_type": "code",
   "execution_count": 5,
   "metadata": {},
   "outputs": [
    {
     "data": {
      "text/plain": [
       "[[(0, 0), (1, 0), (2, 0)],\n",
       " [(0, 0), (1, 0), (0, 0)],\n",
       " [(0, 0), (1, 0), (1, 1)],\n",
       " [(0, 0), (1, 0), (1, -1)],\n",
       " [(0, 0), (-1, 0), (0, 0)],\n",
       " [(0, 0), (-1, 0), (-2, 0)],\n",
       " [(0, 0), (-1, 0), (-1, 1)],\n",
       " [(0, 0), (-1, 0), (-1, -1)],\n",
       " [(0, 0), (0, 1), (1, 1)],\n",
       " [(0, 0), (0, 1), (-1, 1)],\n",
       " [(0, 0), (0, 1), (0, 2)],\n",
       " [(0, 0), (0, 1), (0, 0)],\n",
       " [(0, 0), (0, -1), (1, -1)],\n",
       " [(0, 0), (0, -1), (-1, -1)],\n",
       " [(0, 0), (0, -1), (0, 0)],\n",
       " [(0, 0), (0, -1), (0, -2)]]"
      ]
     },
     "execution_count": 5,
     "metadata": {},
     "output_type": "execute_result"
    }
   ],
   "source": [
    "cache"
   ]
  },
  {
   "cell_type": "markdown",
   "metadata": {},
   "source": [
    "## Task 0\n",
    "\n",
    "Compute the average end-to-end distance of random walks of a given length. What is the scaling of the end-to-end distance with the length of the walk? What is the scaling of the mean *square* end-to-end distance with the length?"
   ]
  },
  {
   "cell_type": "markdown",
   "metadata": {},
   "source": [
    "<font color='red'> (See in the papers, prove) </font>"
   ]
  },
  {
   "cell_type": "code",
   "execution_count": 6,
   "metadata": {},
   "outputs": [
    {
     "name": "stdout",
     "output_type": "stream",
     "text": [
      "1.2071067811865477\n"
     ]
    }
   ],
   "source": [
    "def task0(L):\n",
    "    paths=list()\n",
    "    generate_walks_stored([(0, 0)], L, paths)\n",
    "\n",
    "    average_distance=0\n",
    "    for one_path in paths:\n",
    "        average_distance+=((one_path[0][0]-one_path[-1][0])**2+(one_path[0][0]-one_path[-1][1])**2)**0.5\n",
    "\n",
    "    return average_distance/len(paths)\n",
    "print(task0(2))"
   ]
  },
  {
   "cell_type": "code",
   "execution_count": 10,
   "metadata": {},
   "outputs": [],
   "source": [
    "import numpy as np\n",
    "\n",
    "n=10\n",
    "distances=np.zeros(n)\n",
    "for i in range(10):\n",
    "    distances[i]=task0(i)"
   ]
  },
  {
   "cell_type": "code",
   "execution_count": 14,
   "metadata": {},
   "outputs": [
    {
     "data": {
      "text/plain": [
       "Text(0,0.5,'end-to-end distance')"
      ]
     },
     "execution_count": 14,
     "metadata": {},
     "output_type": "execute_result"
    },
    {
     "data": {
      "image/png": "[encoded data removed]",
      "text/plain": [
       "<matplotlib.figure.Figure at 0xcf746ee470>"
      ]
     },
     "metadata": {},
     "output_type": "display_data"
    }
   ],
   "source": [
    "import matplotlib.pyplot as plt\n",
    "%matplotlib inline\n",
    "\n",
    "fig, ax = plt.subplots(1,1,figsize=(15,10))\n",
    "ax.plot(distances, 'o-')\n",
    "ax.set_xlabel('length of the walk', fontsize=20)\n",
    "ax.set_ylabel('end-to-end distance', fontsize=20)"
   ]
  },
  {
   "cell_type": "code",
   "execution_count": 7,
   "metadata": {},
   "outputs": [
    {
     "name": "stdout",
     "output_type": "stream",
     "text": [
      "12.0\n"
     ]
    }
   ],
   "source": [
    "#The mean square end-to-end distance of walks of the length 12\n",
    "def mean_square(L):\n",
    "    paths=list()\n",
    "    generate_walks_stored([(0, 0)], L, paths)\n",
    "\n",
    "    ms=0\n",
    "    for one_path in paths:\n",
    "        ms+=(one_path[0][0]-one_path[-1][0])**2+(one_path[0][0]-one_path[-1][1])**2\n",
    "\n",
    "    return ms/len(paths)\n",
    "print(mean_square(12))"
   ]
  },
  {
   "cell_type": "markdown",
   "metadata": {},
   "source": [
    "# I. Generate all SAWs on a 2D square lattice\n",
    "\n",
    "A self-avoiding walk is a random walk where a lattice site can only be visited once."
   ]
  },
  {
   "cell_type": "code",
   "execution_count": 16,
   "metadata": {},
   "outputs": [],
   "source": [
    "steps = [(1, 0), (-1, 0), (0, 1), (0, -1)]\n",
    "\n",
    "def generate_SAWs(path, L, cache):\n",
    "    if L == 0:\n",
    "        cache.append(path)\n",
    "    else:\n",
    "        for dx, dy in steps:\n",
    "            x, y = path[-1]\n",
    "            xy_new = (x + dx, y + dy)\n",
    "            if xy_new in path:\n",
    "                continue\n",
    "            pp = path.copy()\n",
    "            pp.append(xy_new)\n",
    "            generate_SAWs(pp, L - 1, cache)"
   ]
  },
  {
   "cell_type": "markdown",
   "metadata": {},
   "source": [
    "## Task 1\n",
    "\n",
    "How many walks of a given length are there? What is the mean end-to-end distance of walks of a given length? What is mean *square* of the end-to-end distance?"
   ]
  },
  {
   "cell_type": "code",
   "execution_count": 17,
   "metadata": {},
   "outputs": [
    {
     "data": {
      "text/plain": [
       "12"
      ]
     },
     "execution_count": 17,
     "metadata": {},
     "output_type": "execute_result"
    }
   ],
   "source": [
    "cache=list()\n",
    "generate_SAWs([(0, 0)], 2, cache)\n",
    "len(cache)"
   ]
  },
  {
   "cell_type": "markdown",
   "metadata": {},
   "source": [
    "<font color='red'> (See in the papers, prove) </font>"
   ]
  },
  {
   "cell_type": "code",
   "execution_count": 20,
   "metadata": {},
   "outputs": [
    {
     "name": "stdout",
     "output_type": "stream",
     "text": [
      "1.6094757082487303\n"
     ]
    }
   ],
   "source": [
    "def mean_distance1(L):\n",
    "    paths=list()\n",
    "    generate_SAWs([(0, 0)], L, paths)\n",
    "\n",
    "    average_distance=0\n",
    "    for one_path in paths:\n",
    "        average_distance+=((one_path[0][0]-one_path[-1][0])**2+(one_path[0][0]-one_path[-1][1])**2)**0.5\n",
    "\n",
    "    return average_distance/len(paths)\n",
    "print(mean_distance1(2))"
   ]
  },
  {
   "cell_type": "code",
   "execution_count": 21,
   "metadata": {},
   "outputs": [
    {
     "name": "stdout",
     "output_type": "stream",
     "text": [
      "34.186992970836975\n"
     ]
    }
   ],
   "source": [
    "#The mean square end-to-end distance of SAWs of the length 12\n",
    "def mean_square1(L):\n",
    "    paths=list()\n",
    "    generate_SAWs([(0, 0)], L, paths)\n",
    "\n",
    "    ms=0\n",
    "    for one_path in paths:\n",
    "        ms+=(one_path[0][0]-one_path[-1][0])**2+(one_path[0][0]-one_path[-1][1])**2\n",
    "\n",
    "    return ms/len(paths)\n",
    "print(mean_square1(12))"
   ]
  },
  {
   "cell_type": "markdown",
   "metadata": {},
   "source": [
    "## Extra tasks (for fun, no credit, a possible basis of a course project)\n",
    "\n",
    "1. Generate a self-avoiding walk on triangular lattice <font color='red'> (a link or a hint) </font>.\n",
    "2. Rewrite the recursive algorithm to use a queue <font color='red'> (a link or a hint) </font>."
   ]
  },
  {
   "cell_type": "code",
   "execution_count": null,
   "metadata": {
    "collapsed": true
   },
   "outputs": [],
   "source": []
  }
 ],
 "metadata": {
  "kernelspec": {
   "display_name": "Python 3",
   "language": "python",
   "name": "python3"
  },
  "language_info": {
   "codemirror_mode": {
    "name": "ipython",
    "version": 3
   },
   "file_extension": ".py",
   "mimetype": "text/x-python",
   "name": "python",
   "nbconvert_exporter": "python",
   "pygments_lexer": "ipython3",
   "version": "3.6.4"
  }
 },
 "nbformat": 4,
 "nbformat_minor": 2
}
